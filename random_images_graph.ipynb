{
 "cells": [
  {
   "cell_type": "code",
   "execution_count": 1,
   "metadata": {
    "collapsed": true
   },
   "outputs": [],
   "source": [
    "import torch\n",
    "from torch_geometric.nn import GraphUNet\n",
    "import torch.nn.functional as F\n",
    "from torch_geometric.utils import dropout_adj\n",
    "from models.datasets import create_simulation_graph_set\n",
    "\n",
    "class Net(torch.nn.Module):\n",
    "    def __init__(self):\n",
    "        super(Net, self).__init__()\n",
    "        pool_ratios = [.75, 0.5]\n",
    "        self.unet = GraphUNet(1, 100, 2,\n",
    "                              depth=3, pool_ratios=pool_ratios)\n",
    "\n",
    "    def forward(self):\n",
    "        edge_index, _ = dropout_adj(data.edge_index, p=0.2,\n",
    "                                    force_undirected=True,\n",
    "                                    num_nodes=data.num_nodes,\n",
    "                                    training=self.training)\n",
    "        x = F.dropout(data.x, p=0.92, training=self.training)\n",
    "        x = self.unet(x, edge_index)\n",
    "        return F.log_softmax(x, dim=1)\n",
    "\n",
    "def train():\n",
    "    model.train()\n",
    "    optimizer.zero_grad()\n",
    "    F.nll_loss(model()[data.train_mask], data.y[data.train_mask]).backward()\n",
    "    optimizer.step()\n",
    "\n",
    "\n",
    "def test():\n",
    "    model.eval()\n",
    "    logits, accs = model(), []\n",
    "    for _, mask in data('train_mask', 'val_mask', 'test_mask'):\n",
    "        pred = logits[mask].max(1)[1]\n",
    "        acc = pred.eq(data.y[mask]).sum().item() / mask.sum().item()\n",
    "        accs.append(acc)\n",
    "    return accs"
   ]
  },
  {
   "cell_type": "code",
   "execution_count": 2,
   "outputs": [],
   "source": [
    "n_kp = 100\n",
    "threshold = 35\n",
    "train_n = 10\n",
    "test_n = 2\n",
    "epochs = 75\n",
    "train_data = create_simulation_graph_set(n_kp, threshold, train_n)\n",
    "test_data = create_simulation_graph_set(n_kp, threshold, test_n)\n",
    "\n",
    "device = 'cuda' if torch.cuda.is_available() else 'cpu'\n",
    "model = Net().to(device)\n",
    "optimizer = torch.optim.Adam(model.parameters(), lr=0.01, weight_decay=0.001)\n",
    "\n",
    "best_val_acc = test_acc = 0"
   ],
   "metadata": {
    "collapsed": false,
    "pycharm": {
     "name": "#%%\n"
    }
   }
  },
  {
   "cell_type": "code",
   "execution_count": 3,
   "outputs": [
    {
     "name": "stdout",
     "output_type": "stream",
     "text": [
      "Epoch: 001, Train: 0.9000, Val: 0.8462, Test: 0.8409\n",
      "Epoch: 002, Train: 0.9400, Val: 0.9038, Test: 0.9091\n",
      "Epoch: 003, Train: 0.6600, Val: 0.9038, Test: 0.9091\n",
      "Epoch: 004, Train: 0.9400, Val: 0.9038, Test: 0.9091\n",
      "Epoch: 005, Train: 0.8800, Val: 0.9038, Test: 0.9091\n",
      "Epoch: 006, Train: 0.9000, Val: 0.9038, Test: 0.9091\n",
      "Epoch: 007, Train: 0.8800, Val: 0.9038, Test: 0.9091\n",
      "Epoch: 008, Train: 0.7800, Val: 0.9038, Test: 0.9091\n",
      "Epoch: 009, Train: 0.8400, Val: 0.9038, Test: 0.9091\n",
      "Epoch: 010, Train: 0.8000, Val: 0.9038, Test: 0.9091\n",
      "Epoch: 011, Train: 0.8000, Val: 0.9038, Test: 0.9091\n",
      "Epoch: 012, Train: 0.8000, Val: 0.9038, Test: 0.9091\n",
      "Epoch: 013, Train: 0.8000, Val: 0.9038, Test: 0.9091\n",
      "Epoch: 014, Train: 0.5200, Val: 0.9038, Test: 0.9091\n",
      "Epoch: 015, Train: 0.8000, Val: 0.9038, Test: 0.9091\n",
      "Epoch: 016, Train: 0.6800, Val: 0.9038, Test: 0.9091\n",
      "Epoch: 017, Train: 0.7600, Val: 0.9038, Test: 0.9091\n",
      "Epoch: 018, Train: 0.6600, Val: 0.9038, Test: 0.9091\n",
      "Epoch: 019, Train: 0.5200, Val: 0.9038, Test: 0.9091\n",
      "Epoch: 020, Train: 0.7600, Val: 0.9038, Test: 0.9091\n",
      "Epoch: 021, Train: 0.7800, Val: 0.9038, Test: 0.9091\n",
      "Epoch: 022, Train: 0.6800, Val: 0.9038, Test: 0.9091\n",
      "Epoch: 023, Train: 0.8200, Val: 0.9038, Test: 0.9091\n",
      "Epoch: 024, Train: 0.8200, Val: 0.9038, Test: 0.9091\n",
      "Epoch: 025, Train: 0.7800, Val: 0.9038, Test: 0.9091\n",
      "Epoch: 026, Train: 0.6800, Val: 0.9038, Test: 0.9091\n",
      "Epoch: 027, Train: 0.8000, Val: 0.9038, Test: 0.9091\n",
      "Epoch: 028, Train: 0.6000, Val: 0.9038, Test: 0.9091\n",
      "Epoch: 029, Train: 0.8000, Val: 0.9038, Test: 0.9091\n",
      "Epoch: 030, Train: 0.8200, Val: 0.9038, Test: 0.9091\n",
      "Epoch: 031, Train: 0.8000, Val: 0.9038, Test: 0.9091\n",
      "Epoch: 032, Train: 0.8000, Val: 0.9038, Test: 0.9091\n",
      "Epoch: 033, Train: 0.8000, Val: 0.9038, Test: 0.9091\n",
      "Epoch: 034, Train: 0.8200, Val: 0.9038, Test: 0.9091\n",
      "Epoch: 035, Train: 0.8000, Val: 0.9038, Test: 0.9091\n",
      "Epoch: 036, Train: 0.7200, Val: 0.9038, Test: 0.9091\n",
      "Epoch: 037, Train: 0.5200, Val: 0.9038, Test: 0.9091\n",
      "Epoch: 038, Train: 0.8000, Val: 0.9038, Test: 0.9091\n",
      "Epoch: 039, Train: 0.8000, Val: 0.9038, Test: 0.9091\n",
      "Epoch: 040, Train: 0.8000, Val: 0.9038, Test: 0.9091\n",
      "Epoch: 041, Train: 0.7200, Val: 0.9038, Test: 0.9091\n",
      "Epoch: 042, Train: 0.8400, Val: 0.9038, Test: 0.9091\n",
      "Epoch: 043, Train: 0.8200, Val: 0.9038, Test: 0.9091\n",
      "Epoch: 044, Train: 0.9000, Val: 0.9038, Test: 0.9091\n",
      "Epoch: 045, Train: 0.9400, Val: 0.9038, Test: 0.9091\n",
      "Epoch: 046, Train: 0.9200, Val: 0.9038, Test: 0.9091\n",
      "Epoch: 047, Train: 0.8400, Val: 0.9038, Test: 0.9091\n",
      "Epoch: 048, Train: 0.8200, Val: 0.9038, Test: 0.9091\n",
      "Epoch: 049, Train: 0.9000, Val: 0.9038, Test: 0.9091\n",
      "Epoch: 050, Train: 0.8200, Val: 0.9038, Test: 0.9091\n",
      "Epoch: 051, Train: 0.9000, Val: 0.9038, Test: 0.9091\n",
      "Epoch: 052, Train: 0.4600, Val: 0.9038, Test: 0.9091\n",
      "Epoch: 053, Train: 0.8000, Val: 0.9038, Test: 0.9091\n",
      "Epoch: 054, Train: 0.8400, Val: 0.9038, Test: 0.9091\n",
      "Epoch: 055, Train: 0.8000, Val: 0.9038, Test: 0.9091\n",
      "Epoch: 056, Train: 0.7600, Val: 0.9038, Test: 0.9091\n",
      "Epoch: 057, Train: 0.7400, Val: 0.9038, Test: 0.9091\n",
      "Epoch: 058, Train: 0.5800, Val: 0.9038, Test: 0.9091\n",
      "Epoch: 059, Train: 0.6800, Val: 0.9038, Test: 0.9091\n",
      "Epoch: 060, Train: 0.7600, Val: 0.9038, Test: 0.9091\n",
      "Epoch: 061, Train: 0.6800, Val: 0.9038, Test: 0.9091\n",
      "Epoch: 062, Train: 0.5800, Val: 0.9038, Test: 0.9091\n",
      "Epoch: 063, Train: 0.7600, Val: 0.9038, Test: 0.9091\n",
      "Epoch: 064, Train: 0.6600, Val: 0.9038, Test: 0.9091\n",
      "Epoch: 065, Train: 0.6400, Val: 0.9038, Test: 0.9091\n",
      "Epoch: 066, Train: 0.7000, Val: 0.9038, Test: 0.9091\n",
      "Epoch: 067, Train: 0.7000, Val: 0.9038, Test: 0.9091\n",
      "Epoch: 068, Train: 0.6200, Val: 0.9038, Test: 0.9091\n",
      "Epoch: 069, Train: 0.6400, Val: 0.9038, Test: 0.9091\n",
      "Epoch: 070, Train: 0.9000, Val: 0.9038, Test: 0.9091\n",
      "Epoch: 071, Train: 0.7600, Val: 0.9038, Test: 0.9091\n",
      "Epoch: 072, Train: 0.7600, Val: 0.9038, Test: 0.9091\n",
      "Epoch: 073, Train: 0.6000, Val: 0.9038, Test: 0.9091\n",
      "Epoch: 074, Train: 0.7000, Val: 0.9038, Test: 0.9091\n"
     ]
    }
   ],
   "source": [
    "for epoch in range(1, epochs):\n",
    "        for data in train_data:\n",
    "            train()\n",
    "        train_acc, val_acc, tmp_test_acc = test()\n",
    "        if val_acc > best_val_acc:\n",
    "            best_val_acc = val_acc\n",
    "            test_acc = tmp_test_acc\n",
    "        log = 'Epoch: {:03d}, Train: {:.4f}, Val: {:.4f}, Test: {:.4f}'\n",
    "        print(log.format(epoch, train_acc, best_val_acc, test_acc))\n",
    "\n"
   ],
   "metadata": {
    "collapsed": false,
    "pycharm": {
     "name": "#%%\n"
    }
   }
  }
 ],
 "metadata": {
  "kernelspec": {
   "name": "pycharm-4f50bddf",
   "language": "python",
   "display_name": "PyCharm (pytorch-unet-master)"
  },
  "language_info": {
   "codemirror_mode": {
    "name": "ipython",
    "version": 2
   },
   "file_extension": ".py",
   "mimetype": "text/x-python",
   "name": "python",
   "nbconvert_exporter": "python",
   "pygments_lexer": "ipython2",
   "version": "2.7.6"
  }
 },
 "nbformat": 4,
 "nbformat_minor": 0
}